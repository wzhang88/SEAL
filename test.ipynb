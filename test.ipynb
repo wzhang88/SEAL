{
 "cells": [
  {
   "cell_type": "code",
   "execution_count": 2,
   "metadata": {
    "collapsed": true,
    "pycharm": {
     "name": "#%%\n"
    }
   },
   "outputs": [
    {
     "ename": "ModuleNotFoundError",
     "evalue": "No module named 'datapane'",
     "output_type": "error",
     "traceback": [
      "\u001B[0;31m---------------------------------------------------------------------------\u001B[0m",
      "\u001B[0;31mModuleNotFoundError\u001B[0m                       Traceback (most recent call last)",
      "\u001B[0;32m/var/folders/qw/dhsd_q251r526n1zh_nqtg1m0000gn/T/ipykernel_28752/1997440677.py\u001B[0m in \u001B[0;36m<module>\u001B[0;34m\u001B[0m\n\u001B[1;32m      1\u001B[0m \u001B[0;32mimport\u001B[0m \u001B[0mpandas\u001B[0m \u001B[0;32mas\u001B[0m \u001B[0mpd\u001B[0m\u001B[0;34m\u001B[0m\u001B[0;34m\u001B[0m\u001B[0m\n\u001B[0;32m----> 2\u001B[0;31m \u001B[0;32mimport\u001B[0m \u001B[0mdatapane\u001B[0m \u001B[0;32mas\u001B[0m \u001B[0mdp\u001B[0m\u001B[0;34m\u001B[0m\u001B[0;34m\u001B[0m\u001B[0m\n\u001B[0m\u001B[1;32m      3\u001B[0m \u001B[0;32mimport\u001B[0m \u001B[0mplotly\u001B[0m\u001B[0;34m.\u001B[0m\u001B[0mexpress\u001B[0m \u001B[0;32mas\u001B[0m \u001B[0mpx\u001B[0m\u001B[0;34m\u001B[0m\u001B[0;34m\u001B[0m\u001B[0m\n\u001B[1;32m      4\u001B[0m \u001B[0;32mimport\u001B[0m \u001B[0mdatapane\u001B[0m \u001B[0;32mas\u001B[0m \u001B[0mdp\u001B[0m\u001B[0;34m\u001B[0m\u001B[0;34m\u001B[0m\u001B[0m\n\u001B[1;32m      5\u001B[0m \u001B[0;34m\u001B[0m\u001B[0m\n",
      "\u001B[0;31mModuleNotFoundError\u001B[0m: No module named 'datapane'"
     ]
    }
   ],
   "source": [
    "\n",
    "\n",
    "import pandas as pd\n",
    "import datapane as dp\n",
    "import plotly.express as px\n",
    "import datapane as dp\n",
    "\n",
    "data = pd.read_csv('population.csv')\n",
    "\n",
    "fig = px.line(data.set_index('Countries').loc['Vietnam'],\n",
    "              labels={'index': 'Year', 'value': 'Population'},\n",
    "        title='Population Over Time',\n",
    "          )\n",
    "fig.show()\n",
    "\n",
    "fig = px.line(data.set_index('Countries').loc['United States'],\n",
    "              labels={'index': 'Year', 'value': 'Population'},\n",
    "        title='Population Over Time',\n",
    "          )\n",
    "fig.show()\n",
    "\n",
    "!pip install ipywidgets\n",
    "!jupyter nbextension enable --py widgetsnbextension\n",
    "\n",
    "from ipywidgets import interact, interactive, fixed, interact_manual\n",
    "import ipywidgets as widgets\n",
    "\n",
    "def f(x):\n",
    "    return x\n",
    "\n",
    "interact(f, x=(0.0,10.0))\n",
    "\n",
    "interact(f, x=['love','hate'])\n",
    "\n",
    "def f(country):\n",
    "\n",
    "    fig = px.line(data.set_index('Countries').loc[country],\n",
    "              labels={'index': 'Year', 'value': 'Population'},\n",
    "        title='Population Over Time',\n",
    "          )\n",
    "    fig.show()\n",
    "\n",
    "interact(f, country=list(data.Countries))\n",
    "\n",
    "px.line(data.set_index('Countries').T.loc[str(1960)],\n",
    "       labels={'value':'Population in {}'.format(str(1960))},\n",
    "       title= 'Population over time')\n",
    "\n",
    "def f(year):\n",
    "    fig = px.line(data.set_index('Countries').T.loc[str(year)],\n",
    "       labels={'value':'Population in {}'.format(str(year))},\n",
    "       title= 'Population over time')\n",
    "    fig.show()\n",
    "\n",
    "interact(f, year=list(data.T.index)[1:] )\n",
    "\n",
    "interact(f, year=(1960, 2018))\n"
   ]
  },
  {
   "cell_type": "code",
   "execution_count": null,
   "outputs": [],
   "source": [
    "def multi_plot(df, column, title):\n",
    "    fig = go.Figure()\n",
    "\n",
    "    for column in df.columns.to_list():\n",
    "        fig.add_trace(\n",
    "            go.Scatter(\n",
    "                x = df.index,\n",
    "                y = df[column],\n",
    "                name = column\n",
    "            )\n",
    "        )\n",
    "\n",
    "    button_all = dict(label = 'All',\n",
    "                      method = 'update',\n",
    "                      args = [{'visible': df.columns.isin(df.columns),\n",
    "                               'title': 'All',\n",
    "                               'showlegend':True}])\n",
    "\n",
    "    def create_layout_button(column):\n",
    "        return dict(label = column,\n",
    "                    method = 'update',\n",
    "                    args = [{'visible': df.columns.isin([column]),\n",
    "                             'title': column,\n",
    "                             'showlegend': True}])\n",
    "\n",
    "    fig.update_layout(\n",
    "        updatemenus=[go.layout.Updatemenu(\n",
    "            active = 0,\n",
    "            buttons = ([button_all] * addAll) + list(df.columns.map(lambda column: create_layout_button(column)))\n",
    "            )\n",
    "        ],\n",
    "         yaxis_type=\"log\"\n",
    "    )\n",
    "    # Update remaining layout properties\n",
    "    fig.update_layout(\n",
    "        title_text=title,\n",
    "        height=800\n",
    "\n",
    "    )\n",
    "\n",
    "    fig.show()\n"
   ],
   "metadata": {
    "collapsed": false,
    "pycharm": {
     "name": "#%%\n"
    }
   }
  },
  {
   "cell_type": "code",
   "execution_count": null,
   "outputs": [],
   "source": [
    "multi_plot(, title=\"Lo"
   ],
   "metadata": {
    "collapsed": false,
    "pycharm": {
     "name": "#%%\n"
    }
   }
  }
 ],
 "metadata": {
  "kernelspec": {
   "display_name": "Python 3",
   "language": "python",
   "name": "python3"
  },
  "language_info": {
   "codemirror_mode": {
    "name": "ipython",
    "version": 2
   },
   "file_extension": ".py",
   "mimetype": "text/x-python",
   "name": "python",
   "nbconvert_exporter": "python",
   "pygments_lexer": "ipython2",
   "version": "2.7.6"
  }
 },
 "nbformat": 4,
 "nbformat_minor": 0
}